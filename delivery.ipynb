{
 "metadata": {
  "language_info": {
   "codemirror_mode": {
    "name": "ipython",
    "version": 3
   },
   "file_extension": ".py",
   "mimetype": "text/x-python",
   "name": "python",
   "nbconvert_exporter": "python",
   "pygments_lexer": "ipython3",
   "version": "3.9.2-final"
  },
  "orig_nbformat": 2,
  "kernelspec": {
   "name": "python3",
   "display_name": "Python 3.9.2 64-bit",
   "metadata": {
    "interpreter": {
     "hash": "63fd5069d213b44bf678585dea6b12cceca9941eaf7f819626cde1f2670de90d"
    }
   }
  }
 },
 "nbformat": 4,
 "nbformat_minor": 2,
 "cells": [
  {
   "source": [
    "# Deliver With Drones\n",
    "\n",
    "**Google's Hashcode 2016**\n",
    "\n",
    "Considering a variety of products distributed through warehouses, the problem consists in deliver these products to client houses through orders. For this there are a given number of drones with a certain maximum payload.\n",
    "\n",
    "The drones all start in the first specified warehouse and can travel to any point, load products from a warehouse, drop products in the client's house or in another warehouse, or just wait for a few turns.\n",
    "\n",
    "The idea is to optimize the time that takes to deliver the maximum number of orders possible in the least amount of time."
   ],
   "cell_type": "markdown",
   "metadata": {}
  },
  {
   "source": [
    "## Genetic Algorithms Approach\n",
    "\n",
    "Let's start with an obvious solution to understand the problem better.\n",
    "\n",
    "The problem specified in _data/obvious.in_ has 3 orders to 3 different houses, 2 of them (order1 and order2) require only one product and the other (order0) requires 2 products. These 2 products can be found in the same warehouse. To conclude this, there are 3 available drones and their payload is high enough to carry any set of available products.\n",
    "\n",
    "The trivial and correct solution would be to assign one drone to each delivery, this is, a drone takes care of the order1 product, other takes care of the order2 product, and finally the last one takes care of the 2 products of order0.\n",
    "\n",
    "The solution will display a list of deliveries for each drone."
   ],
   "cell_type": "markdown",
   "metadata": {}
  },
  {
   "cell_type": "code",
   "execution_count": 1,
   "metadata": {},
   "outputs": [
    {
     "output_type": "stream",
     "name": "stdout",
     "text": [
      "fitness: 256\n"
     ]
    },
    {
     "output_type": "execute_result",
     "data": {
      "text/plain": [
       "[[p[1, 10] d0 w0 o0], [p[0] d1 w0 o1], [p[25] d2 w1 o2]]"
      ]
     },
     "metadata": {},
     "execution_count": 1
    }
   ],
   "source": [
    "import delivery.input.file_parsing as file_parsing\n",
    "from delivery.algorithm.genetic.genetic import GeneticAlgorithm\n",
    "from delivery.algorithm.genetic.selection import TournamentSelection\n",
    "\n",
    "# reads the input file\n",
    "simulation = file_parsing.parse(\"data/obvious.in\")\n",
    "\n",
    "# runs the algorithm\n",
    "selection_method = TournamentSelection(15)\n",
    "algorithm = GeneticAlgorithm(simulation, max_improveless_iterations=10, population_size=30, generational=True, log=False, mutation_probability=0.5)\n",
    "transportation = algorithm.run()\n",
    "\n",
    "# the algorithm returns a chromosome with a solution\n",
    "# these transportation are here split to ease for human reading\n",
    "print(f\"fitness: {transportation.fitness}\")\n",
    "algorithm.split_into_deliveries(transportation.solution)"
   ]
  },
  {
   "source": [
    "Adding another larger order, one can notice that the algorithm assigns that order to a single drone.\n",
    "\n",
    "This is not done manually. The algorithm is fed one product at a time, it then groups the products from the same order together to reduce the amount of travels. "
   ],
   "cell_type": "markdown",
   "metadata": {}
  },
  {
   "cell_type": "code",
   "execution_count": 2,
   "metadata": {},
   "outputs": [
    {
     "output_type": "stream",
     "name": "stdout",
     "text": [
      "fitness: 304\n"
     ]
    },
    {
     "output_type": "execute_result",
     "data": {
      "text/plain": [
       "[[p[30] d0 w1 o1],\n",
       " [p[50] d1 w1 o2],\n",
       " [p[20, 0] d2 w0 o0, p[51, 40, 31] d2 w1 o3]]"
      ]
     },
     "metadata": {},
     "execution_count": 2
    }
   ],
   "source": [
    "simulation = file_parsing.parse(\"data/fouroo.in\")\n",
    "\n",
    "algorithm.simulation = simulation\n",
    "transportation = algorithm.run()\n",
    "\n",
    "print(f\"fitness: {transportation.fitness}\")\n",
    "algorithm.split_into_deliveries(transportation.solution)"
   ]
  },
  {
   "cell_type": "code",
   "execution_count": null,
   "metadata": {},
   "outputs": [],
   "source": []
  }
 ]
}